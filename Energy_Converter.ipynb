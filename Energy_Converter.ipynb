{
 "cells": [
  {
   "cell_type": "markdown",
   "id": "b35e900e-1718-4165-bf18-d74208b39c16",
   "metadata": {},
   "source": [
    "# Energy Converter"
   ]
  },
  {
   "cell_type": "markdown",
   "id": "d33ba65b-5809-4932-a554-22c9862673ad",
   "metadata": {
    "tags": []
   },
   "source": [
    "## Equations"
   ]
  },
  {
   "cell_type": "markdown",
   "id": "7cc476f7-68e3-40ea-bd68-bba01238c00c",
   "metadata": {},
   "source": [
    "__Energy equations:__   \n",
    "$$ E = h \\nu $$ \n",
    "$$ c = \\lambda \\nu $$\n",
    "\n",
    "__Combinations:__  \n",
    "$$ E = h {c \\over \\lambda} $$\n",
    "\n",
    "$$ \\tilde{\\nu} = {1 \\over \\lambda} = {\\nu \\over c}$$"
   ]
  },
  {
   "cell_type": "markdown",
   "id": "48dd2f9f-2c3c-4ebc-8afc-55ef28af3852",
   "metadata": {
    "tags": []
   },
   "source": [
    "## Constants"
   ]
  },
  {
   "cell_type": "code",
   "execution_count": 13,
   "id": "6587ff00-16f0-44ce-99a1-df048840fb5b",
   "metadata": {},
   "outputs": [],
   "source": [
    "c = 2.99E8 #m/s\n",
    "c_cm = 2.99E10 #cm/s\n",
    "h = 6.626E-34 #J/s \n",
    "h_eV = 4.136E-15 #eV/s"
   ]
  },
  {
   "cell_type": "markdown",
   "id": "c560c4cd-9fc2-4883-91e0-b8fb23910862",
   "metadata": {},
   "source": [
    "## Functions"
   ]
  },
  {
   "cell_type": "code",
   "execution_count": 14,
   "id": "b64f5b12-c858-48f8-9c0f-26b71c9774a6",
   "metadata": {},
   "outputs": [],
   "source": [
    "def inverse_cm_to_hz(inv_cm):\n",
    "    hz = inv_cm*c_cm\n",
    "    return hz\n",
    "\n",
    "def inverse_cm_to_s(inv_cm):\n",
    "    s = 1/(inverse_cm_to_hz(inv_cm))\n",
    "    print(inv_cm, \"cm-1 = \", s, \"in seconds\")\n",
    "    return s\n",
    "\n",
    "def inverse_cm_to_fs(inv_cm):\n",
    "    fs = (1/(inverse_cm_to_hz(inv_cm)))*1E15\n",
    "    print(inv_cm, \"cm-1 = \", fs, \"in femtoseconds\")\n",
    "    return fs\n",
    "\n",
    "def nm_to_eV(nm):\n",
    "    eV = h_eV*(c/(nm*1E-9))\n",
    "    print(nm, \"nanometers =\", eV, \"in eV\")\n",
    "    return eV"
   ]
  },
  {
   "cell_type": "code",
   "execution_count": 12,
   "id": "7f808f7b-6e23-4376-b006-44bb16ed1000",
   "metadata": {},
   "outputs": [
    {
     "name": "stdout",
     "output_type": "stream",
     "text": [
      "148 cm-1 =  225.97848684805209 in femtoseconds\n"
     ]
    },
    {
     "data": {
      "text/plain": [
       "225.97848684805209"
      ]
     },
     "execution_count": 12,
     "metadata": {},
     "output_type": "execute_result"
    }
   ],
   "source": [
    "inverse_cm_to_fs(148)"
   ]
  },
  {
   "cell_type": "code",
   "execution_count": 17,
   "id": "1309474c-af0f-4b51-91e2-f5c2f8d11e57",
   "metadata": {},
   "outputs": [
    {
     "name": "stdout",
     "output_type": "stream",
     "text": [
      "158 nanometers = 7.826987341772151 in eV\n"
     ]
    },
    {
     "data": {
      "text/plain": [
       "7.826987341772151"
      ]
     },
     "execution_count": 17,
     "metadata": {},
     "output_type": "execute_result"
    }
   ],
   "source": [
    "nm_to_eV(158)"
   ]
  },
  {
   "cell_type": "code",
   "execution_count": null,
   "id": "72c63a56-f8c1-4fa8-8825-859a71db24ae",
   "metadata": {},
   "outputs": [],
   "source": []
  }
 ],
 "metadata": {
  "kernelspec": {
   "display_name": "Python 3 (ipykernel)",
   "language": "python",
   "name": "python3"
  },
  "language_info": {
   "codemirror_mode": {
    "name": "ipython",
    "version": 3
   },
   "file_extension": ".py",
   "mimetype": "text/x-python",
   "name": "python",
   "nbconvert_exporter": "python",
   "pygments_lexer": "ipython3",
   "version": "3.8.15"
  }
 },
 "nbformat": 4,
 "nbformat_minor": 5
}
