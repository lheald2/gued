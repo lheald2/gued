{
 "cells": [
  {
   "cell_type": "markdown",
   "id": "b35e900e-1718-4165-bf18-d74208b39c16",
   "metadata": {},
   "source": [
    "# Energy Converter"
   ]
  },
  {
   "cell_type": "markdown",
   "id": "3a1d18d7",
   "metadata": {},
   "source": [
    "Notebook for quickly converting between units often used in ultrafast experiments. "
   ]
  },
  {
   "cell_type": "markdown",
   "id": "d33ba65b-5809-4932-a554-22c9862673ad",
   "metadata": {
    "tags": []
   },
   "source": [
    "## Equations"
   ]
  },
  {
   "cell_type": "markdown",
   "id": "7cc476f7-68e3-40ea-bd68-bba01238c00c",
   "metadata": {},
   "source": [
    "__Energy equations:__   \n",
    "$$ E = h \\nu $$ \n",
    "$$ c = \\lambda \\nu $$\n",
    "\n",
    "__Combinations:__  \n",
    "$$ E = h {c \\over \\lambda} $$\n",
    "\n",
    "$$ \\tilde{\\nu} = {1 \\over \\lambda} = {\\nu \\over c}$$"
   ]
  },
  {
   "cell_type": "markdown",
   "id": "48dd2f9f-2c3c-4ebc-8afc-55ef28af3852",
   "metadata": {
    "tags": []
   },
   "source": [
    "## Constants"
   ]
  },
  {
   "cell_type": "code",
   "execution_count": 2,
   "id": "6587ff00-16f0-44ce-99a1-df048840fb5b",
   "metadata": {},
   "outputs": [],
   "source": [
    "c = 2.99E8 #m/s\n",
    "c_cm = 2.99E10 #cm/s\n",
    "c_mm = 2.99E11\n",
    "h = 6.626E-34 #J/s \n",
    "h_eV = 4.136E-15 #eV/s"
   ]
  },
  {
   "cell_type": "markdown",
   "id": "c560c4cd-9fc2-4883-91e0-b8fb23910862",
   "metadata": {},
   "source": [
    "## Functions"
   ]
  },
  {
   "cell_type": "code",
   "execution_count": 3,
   "id": "b64f5b12-c858-48f8-9c0f-26b71c9774a6",
   "metadata": {},
   "outputs": [],
   "source": [
    "def inverse_cm_to_thz(inv_cm):\n",
    "    hz = inv_cm*c_cm\n",
    "    thz = hz*(1e-12)\n",
    "    return thz\n",
    "\n",
    "def inverse_cm_to_hz(inv_cm):\n",
    "    hz = inv_cm*c_cm\n",
    "    return hz\n",
    "\n",
    "def inverse_cm_to_s(inv_cm):\n",
    "    s = 1/(inverse_cm_to_hz(inv_cm))\n",
    "    print(f\"{inv_cm:.2f} cm-1 = {s} in seconds\")\n",
    "    return s\n",
    "\n",
    "def inverse_cm_to_fs(inv_cm):\n",
    "    fs = (1/(inverse_cm_to_hz(inv_cm)))*1E15\n",
    "    print(f\"{inv_cm:.2f} cm-1 = {fs:.2f} in femtoseconds\")\n",
    "    return fs\n",
    "\n",
    "def nm_to_eV(nm):\n",
    "    eV = h_eV*(c/(nm*1E-9))\n",
    "    print(f\"{nm:.2f} nanometers = {eV:.2f} in eV\")\n",
    "    return eV\n",
    "\n",
    "def eV_to_fs(eV):\n",
    "    fs = (h_eV/eV)*1E15\n",
    "    print(f\"{eV:.2f} eV = {fs:.2f} in fs\")\n",
    "    return fs\n",
    "\n",
    "def inverse_cm_to_eV(inv_cm):\n",
    "    eV = h_eV*inv_cm*c_cm\n",
    "    print(f\"{inv_cm:.2f} cm-1 = {eV:.2f} in eV\")\n",
    "    return eV\n",
    "\n",
    "def eV_to_inverse_cm(eV):\n",
    "    inv_cm = eV/(h_eV*c_cm)\n",
    "    print(f\"{eV:.2f} eV in cm^-1 = {inv_cm:.2f}\")\n",
    "    return inv_cm\n",
    "\n",
    "def mm_to_fs(delta_mm):\n",
    "    s = delta_mm/c_mm * 2\n",
    "    fs = s*1E15\n",
    "    print(fs)\n",
    "    return fs\n",
    "\n",
    "def fs_to_mm(fs):\n",
    "    s = fs*1e-15\n",
    "    delta_mm = (s/2)*c_mm\n",
    "    print(delta_mm)\n",
    "    return delta_mm\n",
    "\n",
    "def eV_to_thz(eV):\n",
    "    inv_cm = eV_to_inverse_cm(eV)\n",
    "    thz = inverse_cm_to_thz(inv_cm)\n",
    "    print(f\"{eV:.2f} eV in THz = {thz}\")\n",
    "    return thz\n"
   ]
  },
  {
   "cell_type": "markdown",
   "id": "c933ccc9",
   "metadata": {},
   "source": [
    "## Convert Stage Values to Time (fs)"
   ]
  },
  {
   "cell_type": "code",
   "execution_count": 11,
   "id": "84d14774-24a2-4fd8-a804-e889aae79547",
   "metadata": {},
   "outputs": [
    {
     "name": "stdout",
     "output_type": "stream",
     "text": [
      "6688.963210702342\n"
     ]
    },
    {
     "data": {
      "text/plain": [
       "6688.963210702342"
      ]
     },
     "execution_count": 11,
     "metadata": {},
     "output_type": "execute_result"
    }
   ],
   "source": [
    "mm_to_fs((1.0))"
   ]
  },
  {
   "cell_type": "markdown",
   "id": "80d67f37",
   "metadata": {},
   "source": [
    "## Convert Vibrational Frequencies to Time (fs)"
   ]
  },
  {
   "cell_type": "code",
   "execution_count": 3,
   "id": "7f808f7b-6e23-4376-b006-44bb16ed1000",
   "metadata": {},
   "outputs": [
    {
     "name": "stdout",
     "output_type": "stream",
     "text": [
      "188 cm-1 =  177.89795773144525 in femtoseconds\n"
     ]
    },
    {
     "data": {
      "text/plain": [
       "177.89795773144525"
      ]
     },
     "execution_count": 3,
     "metadata": {},
     "output_type": "execute_result"
    }
   ],
   "source": [
    "inverse_cm_to_fs(188)"
   ]
  },
  {
   "cell_type": "markdown",
   "id": "496ebd28",
   "metadata": {},
   "source": [
    "# Convert eV to THz"
   ]
  },
  {
   "cell_type": "code",
   "execution_count": null,
   "id": "17ba55bf",
   "metadata": {},
   "outputs": [],
   "source": [
    "THz = eV_to_thz()"
   ]
  },
  {
   "cell_type": "markdown",
   "id": "f9becb12",
   "metadata": {},
   "source": [
    "## Convert Wavelength to eV"
   ]
  },
  {
   "cell_type": "code",
   "execution_count": 4,
   "id": "de8a2f4d-3372-43d4-bef5-db13caa7d209",
   "metadata": {
    "tags": []
   },
   "outputs": [
    {
     "name": "stdout",
     "output_type": "stream",
     "text": [
      "200 nanometers = 6.183319999999999 in eV\n"
     ]
    },
    {
     "data": {
      "text/plain": [
       "6.183319999999999"
      ]
     },
     "execution_count": 4,
     "metadata": {},
     "output_type": "execute_result"
    }
   ],
   "source": [
    "nm_to_eV(200)"
   ]
  },
  {
   "cell_type": "markdown",
   "id": "cfbd938a",
   "metadata": {},
   "source": [
    "## Convert eV to Time (fs)"
   ]
  },
  {
   "cell_type": "code",
   "execution_count": 14,
   "id": "87100a69-b3d6-4f92-b863-55a76639fa0d",
   "metadata": {},
   "outputs": [
    {
     "name": "stdout",
     "output_type": "stream",
     "text": [
      "0.04 eV =  103.4 in fs\n"
     ]
    },
    {
     "data": {
      "text/plain": [
       "103.4"
      ]
     },
     "execution_count": 14,
     "metadata": {},
     "output_type": "execute_result"
    }
   ],
   "source": [
    "eV_to_fs(0.04)"
   ]
  },
  {
   "cell_type": "markdown",
   "id": "e7c40d26",
   "metadata": {},
   "source": [
    "## Convert Inverse cm to THz"
   ]
  },
  {
   "cell_type": "code",
   "execution_count": 7,
   "id": "89c4cabd",
   "metadata": {},
   "outputs": [
    {
     "data": {
      "text/plain": [
       "0.927797"
      ]
     },
     "execution_count": 7,
     "metadata": {},
     "output_type": "execute_result"
    }
   ],
   "source": [
    "inverse_cm_to_thz(31.03)"
   ]
  },
  {
   "cell_type": "code",
   "execution_count": null,
   "id": "68ed3269",
   "metadata": {},
   "outputs": [],
   "source": []
  }
 ],
 "metadata": {
  "kernelspec": {
   "display_name": "base",
   "language": "python",
   "name": "python3"
  },
  "language_info": {
   "codemirror_mode": {
    "name": "ipython",
    "version": 3
   },
   "file_extension": ".py",
   "mimetype": "text/x-python",
   "name": "python",
   "nbconvert_exporter": "python",
   "pygments_lexer": "ipython3",
   "version": "3.12.4"
  }
 },
 "nbformat": 4,
 "nbformat_minor": 5
}
