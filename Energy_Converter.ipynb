{
 "cells": [
  {
   "cell_type": "markdown",
   "id": "b35e900e-1718-4165-bf18-d74208b39c16",
   "metadata": {},
   "source": [
    "# Energy Converter"
   ]
  },
  {
   "cell_type": "markdown",
   "id": "3a1d18d7",
   "metadata": {},
   "source": [
    "Notebook for quickly converting between units often used in ultrafast experiments. "
   ]
  },
  {
   "cell_type": "markdown",
   "id": "d33ba65b-5809-4932-a554-22c9862673ad",
   "metadata": {
    "tags": []
   },
   "source": [
    "## Equations"
   ]
  },
  {
   "cell_type": "markdown",
   "id": "7cc476f7-68e3-40ea-bd68-bba01238c00c",
   "metadata": {},
   "source": [
    "__Energy equations:__   \n",
    "$$ E = h \\nu $$ \n",
    "$$ c = \\lambda \\nu $$\n",
    "\n",
    "__Combinations:__  \n",
    "$$ E = h {c \\over \\lambda} $$\n",
    "\n",
    "$$ \\tilde{\\nu} = {1 \\over \\lambda} = {\\nu \\over c}$$"
   ]
  },
  {
   "cell_type": "markdown",
   "id": "48dd2f9f-2c3c-4ebc-8afc-55ef28af3852",
   "metadata": {
    "tags": []
   },
   "source": [
    "## Constants"
   ]
  },
  {
   "cell_type": "code",
   "execution_count": 1,
   "id": "6587ff00-16f0-44ce-99a1-df048840fb5b",
   "metadata": {},
   "outputs": [],
   "source": [
    "c = 2.99E8 #m/s\n",
    "c_cm = 2.99E10 #cm/s\n",
    "c_mm = 2.99E11\n",
    "h = 6.626E-34 #J/s \n",
    "h_eV = 4.136E-15 #eV/s"
   ]
  },
  {
   "cell_type": "markdown",
   "id": "c560c4cd-9fc2-4883-91e0-b8fb23910862",
   "metadata": {},
   "source": [
    "## Functions"
   ]
  },
  {
   "cell_type": "code",
   "execution_count": 2,
   "id": "b64f5b12-c858-48f8-9c0f-26b71c9774a6",
   "metadata": {},
   "outputs": [],
   "source": [
    "def inverse_cm_to_hz(inv_cm):\n",
    "    hz = inv_cm*c_cm\n",
    "    return hz\n",
    "\n",
    "def inverse_cm_to_s(inv_cm):\n",
    "    s = 1/(inverse_cm_to_hz(inv_cm))\n",
    "    print(inv_cm, \"cm-1 = \", s, \"in seconds\")\n",
    "    return s\n",
    "\n",
    "def inverse_cm_to_fs(inv_cm):\n",
    "    fs = (1/(inverse_cm_to_hz(inv_cm)))*1E15\n",
    "    print(inv_cm, \"cm-1 = \", fs, \"in femtoseconds\")\n",
    "    return fs\n",
    "\n",
    "def nm_to_eV(nm):\n",
    "    eV = h_eV*(c/(nm*1E-9))\n",
    "    print(nm, \"nanometers =\", eV, \"in eV\")\n",
    "    return eV\n",
    "\n",
    "def eV_to_fs(eV):\n",
    "    fs = (h_eV/eV)*1E15\n",
    "    print(eV, \"eV = \", fs, \"in fs\")\n",
    "    return(fs)\n",
    "\n",
    "def inverse_cm_to_eV(inv_cm):\n",
    "    eV = h_eV*inv_cm*c_cm\n",
    "    print(inv_cm, \"cm-1 = \", eV, \"in eV\")\n",
    "    return(eV)\n",
    "\n",
    "def mm_to_fs(delta_mm):\n",
    "    s = delta_mm/c_mm * 2\n",
    "    fs = s*1E15\n",
    "    print(fs)\n",
    "    return(fs)"
   ]
  },
  {
   "cell_type": "markdown",
   "id": "c933ccc9",
   "metadata": {},
   "source": [
    "## Convert Stage Values to Time (fs)"
   ]
  },
  {
   "cell_type": "code",
   "execution_count": 3,
   "id": "84d14774-24a2-4fd8-a804-e889aae79547",
   "metadata": {},
   "outputs": [
    {
     "name": "stdout",
     "output_type": "stream",
     "text": [
      "24.749163879659804\n"
     ]
    },
    {
     "data": {
      "text/plain": [
       "24.749163879659804"
      ]
     },
     "execution_count": 3,
     "metadata": {},
     "output_type": "execute_result"
    }
   ],
   "source": [
    "mm_to_fs((108.7275-108.7238))"
   ]
  },
  {
   "cell_type": "markdown",
   "id": "80d67f37",
   "metadata": {},
   "source": [
    "## Convert Vibrational Frequencies to Time (fs)"
   ]
  },
  {
   "cell_type": "code",
   "execution_count": 4,
   "id": "7f808f7b-6e23-4376-b006-44bb16ed1000",
   "metadata": {},
   "outputs": [
    {
     "name": "stdout",
     "output_type": "stream",
     "text": [
      "140 cm-1 =  238.89154323936933 in femtoseconds\n"
     ]
    },
    {
     "data": {
      "text/plain": [
       "238.89154323936933"
      ]
     },
     "execution_count": 4,
     "metadata": {},
     "output_type": "execute_result"
    }
   ],
   "source": [
    "inverse_cm_to_fs(140)"
   ]
  },
  {
   "cell_type": "markdown",
   "id": "f9becb12",
   "metadata": {},
   "source": [
    "## Convert Wavelength to eV"
   ]
  },
  {
   "cell_type": "code",
   "execution_count": null,
   "id": "de8a2f4d-3372-43d4-bef5-db13caa7d209",
   "metadata": {
    "tags": []
   },
   "outputs": [
    {
     "ename": "",
     "evalue": "",
     "output_type": "error",
     "traceback": [
      "\u001b[1;31mFailed to start the Kernel. \n",
      "\u001b[1;31mUnable to start Kernel 'base (Python 3.11.7)' due to a timeout waiting for the ports to get used. \n",
      "\u001b[1;31mView Jupyter <a href='command:jupyter.viewOutput'>log</a> for further details."
     ]
    }
   ],
   "source": [
    "nm_to_eV(200)"
   ]
  },
  {
   "cell_type": "markdown",
   "id": "cfbd938a",
   "metadata": {},
   "source": [
    "## Convert eV to Time (fs)"
   ]
  },
  {
   "cell_type": "code",
   "execution_count": 8,
   "id": "87100a69-b3d6-4f92-b863-55a76639fa0d",
   "metadata": {},
   "outputs": [
    {
     "name": "stdout",
     "output_type": "stream",
     "text": [
      "0.04 eV =  1.6564999999999998e-32 in fs\n"
     ]
    }
   ],
   "source": [
    "eV_to_fs(0.04)"
   ]
  }
 ],
 "metadata": {
  "kernelspec": {
   "display_name": "Python 3 (ipykernel)",
   "language": "python",
   "name": "python3"
  },
  "language_info": {
   "codemirror_mode": {
    "name": "ipython",
    "version": 3
   },
   "file_extension": ".py",
   "mimetype": "text/x-python",
   "name": "python",
   "nbconvert_exporter": "python",
   "pygments_lexer": "ipython3",
   "version": "3.11.7"
  }
 },
 "nbformat": 4,
 "nbformat_minor": 5
}
