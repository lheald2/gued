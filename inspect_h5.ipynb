{
 "cells": [
  {
   "cell_type": "code",
   "execution_count": 5,
   "metadata": {},
   "outputs": [],
   "source": [
    "import h5py\n",
    "\n",
    "def print_h5_structure(name, obj):\n",
    "    if isinstance(obj, h5py.Group):\n",
    "        print(f\"Group: {name}\")\n",
    "    elif isinstance(obj, h5py.Dataset):\n",
    "        print(f\"Dataset: {name}\")\n",
    "\n",
    "def list_all_groups(file_name):\n",
    "    with h5py.File(file_name, 'r') as f:\n",
    "        f.visititems(print_h5_structure)\n",
    "\n",
    "# Example usage\n",
    "file_name = \"o-ntph_data_2024-06-20.h5\"\n",
    "#list_all_groups(file_name)\n",
    "print_h5_structure(\"s1\", 0)"
   ]
  },
  {
   "cell_type": "code",
   "execution_count": null,
   "metadata": {},
   "outputs": [],
   "source": []
  }
 ],
 "metadata": {
  "kernelspec": {
   "display_name": "base",
   "language": "python",
   "name": "python3"
  },
  "language_info": {
   "codemirror_mode": {
    "name": "ipython",
    "version": 3
   },
   "file_extension": ".py",
   "mimetype": "text/x-python",
   "name": "python",
   "nbconvert_exporter": "python",
   "pygments_lexer": "ipython3",
   "version": "3.11.7"
  }
 },
 "nbformat": 4,
 "nbformat_minor": 2
}
