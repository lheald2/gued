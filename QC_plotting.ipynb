{
 "cells": [
  {
   "cell_type": "markdown",
   "metadata": {},
   "source": [
    "# Notebook for QC Data"
   ]
  },
  {
   "cell_type": "code",
   "execution_count": 3,
   "metadata": {},
   "outputs": [],
   "source": [
    "import numpy as np\n",
    "import h5py\n",
    "import matplotlib.pyplot as plt\n",
    "import gued\n",
    "\n",
    "%matplotlib widget"
   ]
  },
  {
   "cell_type": "markdown",
   "metadata": {},
   "source": [
    "## Read in .mat Files"
   ]
  },
  {
   "cell_type": "code",
   "execution_count": 12,
   "metadata": {},
   "outputs": [
    {
     "name": "stdout",
     "output_type": "stream",
     "text": [
      "delay_all_cut has a shape of (25,)\n",
      "dI_I_all_simu has a shape of (2000, 412)\n",
      "dI_I_all_simu_slow has a shape of (2000, 412)\n",
      "dI_I_end_all_mean_2D_smooth has a shape of (412, 25)\n",
      "s_simu has a shape of (412,)\n",
      "delay_simu has a shape of (2000,)\n",
      "dI_I_frags has a shape of (412,)\n",
      "dI_I_NBD has a shape of (412,)\n",
      "dI_I_QC has a shape of (412,)\n"
     ]
    }
   ],
   "source": [
    "folder_path = \"C:\\\\Users\\\\laure\\\\OneDrive - University of Nebraska-Lincoln\\\\Documents\\\\Centurion Lab\\\\QC data and code\\\\\"\n",
    "\n",
    "variable = \"delay_all_cut\"\n",
    "mat_file = folder_path + variable + \".mat\"\n",
    "mat = h5py.File(mat_file, 'r')\n",
    "time_exp = np.squeeze(np.array(mat.get(variable)))\n",
    "print(f\"{variable} has a shape of {time_exp.shape}\")\n",
    "\n",
    "variable = \"dI_I_all_simu\"\n",
    "mat_file = folder_path + variable + \".mat\"\n",
    "mat = h5py.File(mat_file, 'r')\n",
    "simu_all = np.array(mat.get(variable)).T\n",
    "print(f\"{variable} has a shape of {simu_all.shape}\")\n",
    "\n",
    "variable = \"dI_I_all_simu_slow\"\n",
    "mat_file = folder_path + variable + \".mat\"\n",
    "mat = h5py.File(mat_file, 'r')\n",
    "simu_slow = np.array(mat.get(variable)).T\n",
    "print(f\"{variable} has a shape of {simu_slow.shape}\")\n",
    "\n",
    "# variable = \"dI_I_end_all_mean\"\n",
    "# mat_file = folder_path + variable + \".mat\"\n",
    "# mat = h5py.File(mat_file, 'r')\n",
    "# dI_I_exp = np.array(mat.get(variable))\n",
    "# print(f\"{variable} has a shape of {dI_I_exp.shape}\")\n",
    "\n",
    "variable = \"dI_I_end_all_mean_2D_smooth\"\n",
    "mat_file = folder_path + variable + \".mat\"\n",
    "mat = h5py.File(mat_file, 'r')\n",
    "dI_I_smooth = np.array(mat.get(variable)).T\n",
    "print(f\"{variable} has a shape of {dI_I_smooth.shape}\")\n",
    "\n",
    "variable = \"s_simu\"\n",
    "mat_file = folder_path + variable + \".mat\"\n",
    "mat = h5py.File(mat_file, 'r')\n",
    "s_simu = np.squeeze(np.array(mat.get(variable)))\n",
    "print(f\"{variable} has a shape of {s_simu.shape}\")\n",
    "\n",
    "variable = \"delay_simu\"\n",
    "mat_file = folder_path + variable + \".mat\"\n",
    "mat = h5py.File(mat_file, 'r')\n",
    "time_simu = np.squeeze(np.array(mat.get(variable)))\n",
    "print(f\"{variable} has a shape of {time_simu.shape}\")\n",
    "\n",
    "variable = 'dI_I_frags'\n",
    "mat_file = folder_path + variable + \".mat\"\n",
    "mat = h5py.File(mat_file, 'r')\n",
    "frag_simu = np.mean(np.array(mat.get(variable)), axis=1)\n",
    "print(f\"{variable} has a shape of {frag_simu.shape}\")\n",
    "\n",
    "variable = 'dI_I_NBD'\n",
    "mat_file = folder_path + variable + \".mat\"\n",
    "mat = h5py.File(mat_file, 'r')\n",
    "NBD_simu = np.mean(np.array(mat.get(variable)), axis=1)\n",
    "print(f\"{variable} has a shape of {NBD_simu.shape}\")\n",
    "\n",
    "variable = 'dI_I_QC'\n",
    "mat_file = folder_path + variable + \".mat\"\n",
    "mat = h5py.File(mat_file, 'r')\n",
    "QC_simu = np.mean(np.array(mat.get(variable)), axis=1)\n",
    "print(f\"{variable} has a shape of {QC_simu.shape}\")\n",
    "\n"
   ]
  },
  {
   "cell_type": "code",
   "execution_count": null,
   "metadata": {},
   "outputs": [],
   "source": []
  }
 ],
 "metadata": {
  "kernelspec": {
   "display_name": "Python 3",
   "language": "python",
   "name": "python3"
  },
  "language_info": {
   "codemirror_mode": {
    "name": "ipython",
    "version": 3
   },
   "file_extension": ".py",
   "mimetype": "text/x-python",
   "name": "python",
   "nbconvert_exporter": "python",
   "pygments_lexer": "ipython3",
   "version": "3.11.9"
  }
 },
 "nbformat": 4,
 "nbformat_minor": 2
}
